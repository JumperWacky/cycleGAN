{
  "nbformat": 4,
  "nbformat_minor": 0,
  "metadata": {
    "colab": {
      "provenance": [],
      "toc_visible": true,
      "authorship_tag": "ABX9TyM9trftQzPD7UBNgvhiMeln",
      "include_colab_link": true
    },
    "kernelspec": {
      "name": "python3",
      "display_name": "Python 3"
    },
    "language_info": {
      "name": "python"
    }
  },
  "cells": [
    {
      "cell_type": "markdown",
      "metadata": {
        "id": "view-in-github",
        "colab_type": "text"
      },
      "source": [
        "<a href=\"https://colab.research.google.com/github/JumperWacky/Jumper/blob/main/mnist_rec.ipynb\" target=\"_parent\"><img src=\"https://colab.research.google.com/assets/colab-badge.svg\" alt=\"Open In Colab\"/></a>"
      ]
    },
    {
      "cell_type": "code",
      "execution_count": 15,
      "metadata": {
        "id": "smhtRtpK0KNZ"
      },
      "outputs": [],
      "source": [
        "import pandas\n",
        "import matplotlib.pyplot as plt\n",
        "import torch\n",
        "import torch.nn as nn"
      ]
    },
    {
      "cell_type": "code",
      "source": [
        "df = pandas.read_csv(\"/content/mnist_data/mnist_test.csv\")\n",
        "row = 0\n",
        "data = df.iloc[row]\n",
        "\n",
        "label = data[0]\n",
        "\n",
        "img = data[1:].values.reshape(28, 28)\n",
        "plt.title(\"label = \" + str(label))\n",
        "plt.imshow(img, interpolation = 'none', cmap = 'Blues')\n",
        "plt.show()"
      ],
      "metadata": {
        "colab": {
          "base_uri": "https://localhost:8080/",
          "height": 281
        },
        "id": "oBC1zcae0uvM",
        "outputId": "bcbfcbf2-5a69-459a-8004-2ca1f68f65ca"
      },
      "execution_count": 14,
      "outputs": [
        {
          "output_type": "display_data",
          "data": {
            "text/plain": [
              "<Figure size 432x288 with 1 Axes>"
            ],
            "image/png": "[encoded data removed]"
          },
          "metadata": {
            "needs_background": "light"
          }
        }
      ]
    },
    {
      "cell_type": "code",
      "source": [
        "class Classifier(nn.Module):\n",
        "  def __init__(self):\n",
        "    # 初始化Pytorch父类\n",
        "    super(Classifier).__init__()\n",
        "\n",
        "    # 定义神经网络层\n",
        "    self.model = nn.Sequential(\n",
        "        nn.Linear(784, 200),\n",
        "        nn.Sigmoid(),\n",
        "        nn.Linear(200, 10),\n",
        "        nn.Sigmoid()\n",
        "    )\n",
        "\n",
        "    # 创建损失函数\n",
        "    self.loss_function = nn.MSELoss()\n",
        "\n",
        "    # 创建优化器\n",
        "    self.optimizer = torch.optim.SGD(self.parameters(), lr=0.01)\n",
        "\n",
        "    # 可视化训练，记录训练进展的计数器和列表\n",
        "    self.counter = 0\n",
        "    self.progress = []\n",
        "\n",
        "    pass\n",
        "  \n",
        "  def forward(self, inputs):\n",
        "    return self.model(inputs)\n",
        "\n",
        "  def train(self, inputs, targets):\n",
        "    # 计算网络的输出值\n",
        "    outputs = self.forward(inputs)\n",
        "    # 计算损失值\n",
        "    loss = self.loss_function(outputs, targets)\n",
        "\n",
        "    # 梯度归零，反向传播，更新权重\n",
        "    self.optimizer.zero_grad()\n",
        "    loss.backward()\n",
        "    self.optimizer.step()\n",
        "\n",
        "    # 每隔10个训练样本增加一次计数器的值，并将损失值添加进列表的末尾\n",
        "\n",
        "    "
      ],
      "metadata": {
        "id": "QIGeJqrC49wz"
      },
      "execution_count": 19,
      "outputs": []
    },
    {
      "cell_type": "code",
      "source": [],
      "metadata": {
        "id": "qlFJ8Mcj9T-k"
      },
      "execution_count": null,
      "outputs": []
    }
  ]
}